{
  "nbformat": 4,
  "nbformat_minor": 0,
  "metadata": {
    "colab": {
      "provenance": []
    },
    "kernelspec": {
      "name": "python3",
      "display_name": "Python 3"
    },
    "language_info": {
      "name": "python"
    }
  },
  "cells": [
    {
      "cell_type": "code",
      "source": [
        "# @title basic functions\n",
        "def R(i=None): #\n",
        "  x=list(str(i))\n",
        "\n",
        "  for j in [0,1,4,5]:\n",
        "    if int(x[j])+5 >12:\n",
        "      continue\n",
        "    elif (j+int(x[j]))%2:\n",
        "      x[int(x[j])+5]=str((int(x[int(x[j])+5])+1)%3)\n",
        "    else:\n",
        "      x[int(x[j])+5]=str((int(x[int(x[j])+5])-1)%3)\n",
        "\n",
        "  x[0],x[4]=x[4],x[0]\n",
        "  x[0],x[1]=x[1],x[0]\n",
        "  x[4],x[5]=x[5],x[4]\n",
        "\n",
        "  return int(\"\".join(x))\n",
        "\n",
        "def R_(i=None): #\n",
        "  x=list(str(i))\n",
        "\n",
        "  for j in [0,1,4,5]:\n",
        "    if int(x[j])+5 >12:\n",
        "      continue\n",
        "    elif (j+int(x[j]))%2:\n",
        "      x[int(x[j])+5]=str((int(x[int(x[j])+5])+1)%3)\n",
        "    else:\n",
        "      x[int(x[j])+5]=str((int(x[int(x[j])+5])-1)%3)\n",
        "\n",
        "  x[1],x[5]=x[5],x[1]\n",
        "  x[0],x[1]=x[1],x[0]\n",
        "  x[4],x[5]=x[5],x[4]\n",
        "\n",
        "  return int(\"\".join(x))\n",
        "\n",
        "def B(i=None):\n",
        "  x=list(str(i))\n",
        "\n",
        "  x[6],x[3]=x[3],x[6]\n",
        "  x[6],x[4]=x[4],x[6]\n",
        "  x[6],x[5]=x[5],x[6]\n",
        "\n",
        "  return int(\"\".join(x))\n",
        "\n",
        "def B_(i=None):\n",
        "  x=list(str(i))\n",
        "\n",
        "  x[6],x[3]=x[3],x[6]\n",
        "  x[4],x[3]=x[3],x[4]\n",
        "  x[5],x[4]=x[4],x[5]\n",
        "\n",
        "  return int(\"\".join(x))\n",
        "\n",
        "def D(i=None):\n",
        "  x=list(str(i))\n",
        "\n",
        "  for j in [1,2,3,4]:\n",
        "    if int(x[j])+5 >12:\n",
        "      continue\n",
        "    elif (j+int(x[j]))%2:\n",
        "      x[int(x[j])+5]=str((int(x[int(x[j])+5])-1)%3)\n",
        "    else:\n",
        "      x[int(x[j])+5]=str((int(x[int(x[j])+5])+1)%3)\n",
        "\n",
        "  x[1],x[2]=x[2],x[1]\n",
        "  x[2],x[3]=x[3],x[2]\n",
        "  x[3],x[4]=x[4],x[3]\n",
        "\n",
        "  return int(\"\".join(x))\n",
        "\n",
        "def D_(i=None):\n",
        "  x=list(str(i))\n",
        "\n",
        "  for j in [1,2,3,4]:\n",
        "    if int(x[j])+5 >12:\n",
        "      continue\n",
        "    elif (j+int(x[j]))%2:\n",
        "      x[int(x[j])+5]=str((int(x[int(x[j])+5])-1)%3)\n",
        "    else:\n",
        "      x[int(x[j])+5]=str((int(x[int(x[j])+5])+1)%3)\n",
        "\n",
        "  x[1],x[4]=x[4],x[1]\n",
        "  x[2],x[3]=x[3],x[2]\n",
        "  x[4],x[2]=x[2],x[4]\n",
        "\n",
        "  return int(\"\".join(x))\n",
        "\n",
        "#for f in [R,R_,B,B_,D,D_]:\n",
        "  #print(f(23456780000000))"
      ],
      "metadata": {
        "id": "lg5bSHjpy4eh",
        "cellView": "form"
      },
      "execution_count": 1,
      "outputs": []
    },
    {
      "cell_type": "code",
      "source": [
        "# @title Generating the map (~2min)\n",
        "themapkey=[]\n",
        "themap=dict()\n",
        "for i in itr.permutations(\"2345678\"):\n",
        "  for j in itr.product('012', repeat=6):\n",
        "    themapkey+=[int(\"\".join(i) + \"\".join(j))]\n",
        "\n",
        "for i in themapkey:\n",
        "  themap[i]={(f[0]+1,f[1](i)) for f in enumerate([R,R_,B,B_,D,D_])}\n",
        "\n",
        "# a=[]\n",
        "# for i in themap:\n",
        "#   a+=[[i, themap[i]]]\n",
        "# import csv\n",
        "\n",
        "# filename = \"/content/drive/MyDrive/Colab Notebooks/misc/cubemap.csv\"\n",
        "\n",
        "# with open(filename, 'w') as csvfile:\n",
        "#     csvwriter = csv.writer(csvfile)\n",
        "#     csvwriter.writerows(a)"
      ],
      "metadata": {
        "id": "-JPxpvejZMRw",
        "cellView": "form"
      },
      "execution_count": 5,
      "outputs": []
    },
    {
      "cell_type": "markdown",
      "source": [
        "A state of 2x2 cube is represented by a 13 digits integer: 2345678-012012, 2-8 for block index and 6 cube orientation **order by index**.\n",
        "Using matrix coordinate, (0,0,1) is the first element of the backside. Ordering\n",
        "is (0,0,0) > (0,1,0) > (1,1,0) > (1,0,0) >> (1,0,1) > (1,1,1) > (0,1,1) > (0,0,1)\n",
        "\n",
        "Each block has 3 orientations at each corner. Using xyz coordinate, the state (0, 1, or 2) of a orientation represents the plane orthogonal to the axises (x,y,z) in the solved cube state. 0 where the plane facing x axis is the x plane at solved state, 1 where it's x plane is the y plane at solved state, etc.\n",
        "\n",
        "Block is either odd or even depend on its position at solved state. (1,2,3,....)\n",
        "Each move, a block goes from odd positions to even position. With the 1) parity of position at solved state(or index of the block), 2) the parity of current position, 3) Axis of rotation of the move. Three variables can determine the resulting orientation after a move."
      ],
      "metadata": {
        "id": "pQ60ZO6o51qy"
      }
    },
    {
      "cell_type": "code",
      "execution_count": 12,
      "metadata": {
        "id": "-Zu6KO9aywkf",
        "colab": {
          "base_uri": "https://localhost:8080/"
        },
        "outputId": "6a5c4701-13d2-47f6-9b07-4557e450ce7f"
      },
      "outputs": [
        {
          "output_type": "stream",
          "name": "stdout",
          "text": [
            "2345678000000 {(6, 2634578011110), (2, 7245368220022), (4, 2346785000000), (1, 3645728220022), (3, 2348567000000), (5, 2456378011110)}\n"
          ]
        }
      ],
      "source": [
        "#import sys\n",
        "#a=23456780000000\n",
        "#print(\"The size of the empty list is:\",sys.getsizeof(  themap  ), \"bytes.\")\n",
        "\n",
        "#start_time = time.time()\n",
        "\n",
        "#s=[]\n",
        "#for i in range(100000):\n",
        "#  d=np.random.randint(10**13,88888888888888)\n",
        "#  s+=[R(d),R(R(d)),R(R(R(d))) ]\n",
        "\n",
        "#print(time.time() - start_time)\n",
        "#3.337843656539917 for n=100000\n",
        "\n",
        "import numpy as np\n",
        "import matplotlib.pyplot as plt\n",
        "import time\n",
        "import itertools as itr\n",
        "import csv\n",
        "\n",
        "themapkey=[]\n",
        "themap=dict()\n",
        "\n",
        "filename = \"/content/drive/MyDrive/Colab Notebooks/misc/cubemap.csv\"\n",
        "\n",
        "with open(filename, mode ='r') as file:\n",
        "  csvFile = csv.reader(file)\n",
        "  for lines in csvFile:\n",
        "    themapkey+=[int(lines[0])]\n",
        "    themap[int(lines[0])]=lines[1]\n",
        "\n",
        "print(themapkey[0],themap[themapkey[0]])"
      ]
    },
    {
      "cell_type": "markdown",
      "source": [
        "Color Order: (x+,x-,y+,y-,z+,z-) : \"Blue\", \"Green\", \"Orange\", \"Red\", \"White\", \"Yellow\". So first block is fixed at (\"Blue\", \"Red\", \"White\"), second block initial orientation is (\"Blue\", \"Orange\", \"White\") etc......\n",
        "\n",
        "Steps to solve:\n",
        "\n",
        "1. **(\"Blue\", \"Red\", \"White\")** at top left corner.\n",
        "2. Get the 13 digit state number using key. Look for color of the face at x-axis\n",
        "3. Plug and follow steps."
      ],
      "metadata": {
        "id": "BYrS99ZZjbPL"
      }
    },
    {
      "cell_type": "code",
      "source": [
        "colors=[\"Blue\", \"Green\", \"Orange\", \"Red\", \"White\", \"Yellow\"]\n",
        "blocks=['034','024','025','035','135','125','124','134']\n",
        "print(\"COLOR KEY\")\n",
        "for i in range(len(blocks)):\n",
        "  print(i+1,[colors[int(j)] for j in list(blocks[i])])"
      ],
      "metadata": {
        "colab": {
          "base_uri": "https://localhost:8080/"
        },
        "id": "YrNg7jCBkmhB",
        "outputId": "718e420e-01f1-4a08-f9aa-723f716019b8"
      },
      "execution_count": 24,
      "outputs": [
        {
          "output_type": "stream",
          "name": "stdout",
          "text": [
            "COLOR KEY\n",
            "1 ['Blue', 'Red', 'White']\n",
            "2 ['Blue', 'Orange', 'White']\n",
            "3 ['Blue', 'Orange', 'Yellow']\n",
            "4 ['Blue', 'Red', 'Yellow']\n",
            "5 ['Green', 'Red', 'Yellow']\n",
            "6 ['Green', 'Orange', 'Yellow']\n",
            "7 ['Green', 'Orange', 'White']\n",
            "8 ['Green', 'Red', 'White']\n"
          ]
        }
      ]
    },
    {
      "cell_type": "code",
      "source": [
        "#########################################################################\n",
        "\n",
        "state=(0, 3245678000000)  # 4 moves testcase: 4586237002020,          11 moves testcase: 8725463000012\n",
        "\n",
        "#########################################################################\n",
        "\n",
        "que1=[(0, 2345678000000)]\n",
        "que2=[state]\n",
        "nextque1=[]\n",
        "nextque2=[]\n",
        "s=0\n",
        "d1=dict(zip(themapkey,[0]*3674160))\n",
        "d2=dict(zip(themapkey,[0]*3674160))\n",
        "part1,part2=0,0\n",
        "while que1 and que2:\n",
        "  for k in que1:\n",
        "    if d2[k[1]]:\n",
        "      part2,part1=k[0],d2[k[1]]\n",
        "      #print(part1,part2)\n",
        "      break\n",
        "    else:\n",
        "      d1[k[1]]=k[0]\n",
        "      for f in eval(themap[k[1]]):\n",
        "        if d1[f[1]]:\n",
        "          continue\n",
        "        else:\n",
        "          nextque1+=[( 10*k[0]+f[0], f[1] )]\n",
        "\n",
        "  for j in que2:\n",
        "    if d1[j[1]]:\n",
        "      part1,part2=j[0],d1[j[1]]\n",
        "      #print(part1,part2)\n",
        "      break\n",
        "    else:\n",
        "      d2[j[1]]=j[0]\n",
        "      for f in eval(themap[j[1]]):\n",
        "        if d2[f[1]]:\n",
        "          continue\n",
        "        else:\n",
        "          nextque2+=[( 10*j[0]+f[0], f[1] )]\n",
        "  s+=1\n",
        "  if s > 20 or (part1 and part2) :\n",
        "    break\n",
        "  else:\n",
        "    que1=nextque1\n",
        "    nextque1=[]\n",
        "    que2=nextque2\n",
        "    nextque2=[]\n",
        "reverse=lambda x: \"\".join([ str( ((int(i)-1)//2)*2+int(i)%2+1 ) for i in list(x)[::-1]])\n",
        "solution=str(part1)+reverse(str(part2))\n",
        "\n",
        "print(len(solution), \"steps\")\n",
        "f=['R','R_','B','B_','D','D_']\n",
        "state1=state[1]\n",
        "print(\"Start:\",state1)\n",
        "for i in list(solution):\n",
        "  state1=eval(f[int(i)-1])(state1)\n",
        "  print(f[int(i)-1], state1 )\n"
      ],
      "metadata": {
        "colab": {
          "base_uri": "https://localhost:8080/"
        },
        "id": "RStrhvDao9_i",
        "outputId": "cedcc344-d752-46c1-e7ec-b45192256457"
      },
      "execution_count": 27,
      "outputs": [
        {
          "output_type": "stream",
          "name": "stdout",
          "text": [
            "13 steps\n",
            "Start: 3245678000000\n",
            "B 3248567000000\n",
            "D 3485267201200\n",
            "R_ 6385427112210\n",
            "D 6854327120010\n",
            "R 8354267200000\n",
            "R 3254687120010\n",
            "D_ 3625487022220\n",
            "B 3627548022220\n",
            "R 6527438000000\n",
            "D 6274538101101\n",
            "D 6745238000000\n",
            "R_ 3645728220022\n",
            "R_ 2345678000000\n"
          ]
        }
      ]
    },
    {
      "cell_type": "markdown",
      "source": [
        "#Diameter??\n"
      ],
      "metadata": {
        "id": "K_3aIkdaCYvO"
      }
    },
    {
      "cell_type": "code",
      "source": [
        "state=8725463000012  # 4 moves testcase: 4586237002020,          11 moves testcase: 8725463000012\n",
        "\n",
        "#########################################################################\n",
        "\n",
        "que1=[2345678000000]\n",
        "que2=[state]\n",
        "nextque1=[]\n",
        "nextque2=[]\n",
        "s=0\n",
        "d=dict(zip(themapkey,[0]*3674160))\n",
        "while que1 and que2:\n",
        "  for k in que1:\n",
        "    if d[k]:\n",
        "      continue\n",
        "    else:\n",
        "      d[k]=1\n",
        "      for f in eval(themap[k]):\n",
        "        if d[f[1]]:\n",
        "          continue\n",
        "        else:\n",
        "          nextque1+=[f[1]]\n",
        "\n",
        "  for j in que2:\n",
        "    if d[j]:\n",
        "      continue\n",
        "    else:\n",
        "      d[j]=1\n",
        "      for f in eval(themap[j]):\n",
        "        if d[f[1]]:\n",
        "          continue\n",
        "        else:\n",
        "          nextque2+=[f[1]]\n",
        "  s+=1\n",
        "  print(s)\n",
        "  if s > 20 :\n",
        "    break\n",
        "  else:\n",
        "    que1=nextque1\n",
        "    nextque1=[]\n",
        "    que2=nextque2\n",
        "    nextque2=[]"
      ],
      "metadata": {
        "colab": {
          "base_uri": "https://localhost:8080/"
        },
        "id": "TP3gPHh7EBYZ",
        "outputId": "63b67ab2-ae1a-4e16-bd1a-1240dbec22e5"
      },
      "execution_count": 56,
      "outputs": [
        {
          "output_type": "stream",
          "name": "stdout",
          "text": [
            "1\n",
            "2\n",
            "3\n",
            "4\n",
            "5\n",
            "6\n",
            "7\n",
            "8\n",
            "9\n",
            "10\n",
            "11\n",
            "12\n",
            "13\n",
            "14\n"
          ]
        }
      ]
    }
  ]
}